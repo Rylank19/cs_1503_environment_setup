{
 "cells": [
  {
   "cell_type": "markdown",
   "id": "d561e18b",
   "metadata": {},
   "source": [
    "# Jupyter Notebook Lab 1\n",
    "* Rylan Kauffman\n",
    "* 01/19/2024"
   ]
  },
  {
   "cell_type": "markdown",
   "id": "3d183107",
   "metadata": {},
   "source": [
    "## Markdown Exercises\n",
    "\n",
    "**I am interested** in machine learning because I think the applications are very cool. For one example, I have seen many videos where people use machine learning get a computer to play video games.\n",
    "\n",
    "* How probability is used in machine learning\n",
    "* What a neural net is\n",
    "* What machine learning *means*"
   ]
  },
  {
   "cell_type": "markdown",
   "id": "851f0439",
   "metadata": {},
   "source": [
    "## Jupyter Notebook Exercises"
   ]
  },
  {
   "cell_type": "code",
   "execution_count": 1,
   "id": "9ca3a1d7",
   "metadata": {},
   "outputs": [
    {
     "name": "stdout",
     "output_type": "stream",
     "text": [
      "What is your name? Rylan Kauffman\n",
      "Hello Rylan Kauffman !\n"
     ]
    }
   ],
   "source": [
    "name = input(prompt=\"What is your name? \")\n",
    "print(\"Hello\", name, \"!\")"
   ]
  },
  {
   "cell_type": "code",
   "execution_count": null,
   "id": "859a0640",
   "metadata": {},
   "outputs": [],
   "source": []
  }
 ],
 "metadata": {
  "kernelspec": {
   "display_name": "Python 3 (ipykernel)",
   "language": "python",
   "name": "python3"
  },
  "language_info": {
   "codemirror_mode": {
    "name": "ipython",
    "version": 3
   },
   "file_extension": ".py",
   "mimetype": "text/x-python",
   "name": "python",
   "nbconvert_exporter": "python",
   "pygments_lexer": "ipython3",
   "version": "3.11.5"
  }
 },
 "nbformat": 4,
 "nbformat_minor": 5
}
